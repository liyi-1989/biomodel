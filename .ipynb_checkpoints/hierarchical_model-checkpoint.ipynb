{
 "cells": [
  {
   "cell_type": "code",
   "execution_count": 44,
   "metadata": {
    "collapsed": false
   },
   "outputs": [
    {
     "data": {
      "text/html": [
       "<table>\n",
       "<thead><tr><th></th><th scope=col>year</th><th scope=col>lat</th><th scope=col>lon</th><th scope=col>sitenum</th><th scope=col>cover</th><th scope=col>filter_chla_mean</th><th scope=col>filter_sst_mean</th><th scope=col>filter_upw_mean</th><th scope=col>mytilus.rec</th></tr></thead>\n",
       "<tbody>\n",
       "\t<tr><th scope=row>230</th><td>2004</td><td>44.82667</td><td>-124.0567</td><td>10</td><td>80.6889</td><td>3.662119</td><td>11.82645</td><td>-0.7602897</td><td>4.828388</td></tr>\n",
       "\t<tr><th scope=row>231</th><td>2004</td><td>45.755</td><td>-123.965</td><td>51</td><td>3.7333</td><td>4.980644</td><td>14.21074</td><td>-2.71165</td><td>5.475286</td></tr>\n",
       "\t<tr><th scope=row>232</th><td>2004</td><td>45.77</td><td>-123.97</td><td>9</td><td>0.1</td><td>4.980644</td><td>14.21074</td><td>-2.71165</td><td>5.481912</td></tr>\n",
       "\t<tr><th scope=row>233</th><td>2004</td><td>45.91333</td><td>-123.9767</td><td>50</td><td>19.6667</td><td>5.567718</td><td>14.66006</td><td>-2.71165</td><td>5.569498</td></tr>\n",
       "\t<tr><th scope=row>234</th><td>2004</td><td>47.86</td><td>-124.57</td><td>6</td><td>0.0667</td><td>7.603948</td><td>12.2733</td><td>-5.712865</td><td>6.462187</td></tr>\n",
       "\t<tr><th scope=row>235</th><td>2004</td><td>47.87</td><td>-124.6</td><td>5</td><td>0.2</td><td>7.110147</td><td>12.55776</td><td>-5.712865</td><td>6.450858</td></tr>\n",
       "\t<tr><th scope=row>236</th><td>2004</td><td>47.94</td><td>-124.6583</td><td>4</td><td>0.2333</td><td>7.252411</td><td>12.57206</td><td>-5.712865</td><td>6.46111</td></tr>\n",
       "\t<tr><th scope=row>237</th><td>2004</td><td>48.31333</td><td>-124.66</td><td>3</td><td>11.5</td><td>5.044518</td><td>10.39646</td><td>-5.712865</td><td>6.698514</td></tr>\n",
       "\t<tr><th scope=row>238</th><td>2004</td><td>48.3375</td><td>-124.6875</td><td>2</td><td>22.4333</td><td>4.839913</td><td>10.32589</td><td>-5.712865</td><td>6.697709</td></tr>\n",
       "\t<tr><th scope=row>239</th><td>2004</td><td>48.38917</td><td>-124.65</td><td>1</td><td>61.8621</td><td>4.465045</td><td>9.895781</td><td>-5.712865</td><td>6.752841</td></tr>\n",
       "</tbody>\n",
       "</table>\n"
      ],
      "text/latex": [
       "\\begin{tabular}{r|lllllllll}\n",
       "  & year & lat & lon & sitenum & cover & filter_chla_mean & filter_sst_mean & filter_upw_mean & mytilus.rec\\\\\n",
       "\\hline\n",
       "\t230 & 2004 & 44.82667 & -124.0567 & 10 & 80.6889 & 3.662119 & 11.82645 & -0.7602897 & 4.828388\\\\\n",
       "\t231 & 2004 & 45.755 & -123.965 & 51 & 3.7333 & 4.980644 & 14.21074 & -2.71165 & 5.475286\\\\\n",
       "\t232 & 2004 & 45.77 & -123.97 & 9 & 0.1 & 4.980644 & 14.21074 & -2.71165 & 5.481912\\\\\n",
       "\t233 & 2004 & 45.91333 & -123.9767 & 50 & 19.6667 & 5.567718 & 14.66006 & -2.71165 & 5.569498\\\\\n",
       "\t234 & 2004 & 47.86 & -124.57 & 6 & 0.0667 & 7.603948 & 12.2733 & -5.712865 & 6.462187\\\\\n",
       "\t235 & 2004 & 47.87 & -124.6 & 5 & 0.2 & 7.110147 & 12.55776 & -5.712865 & 6.450858\\\\\n",
       "\t236 & 2004 & 47.94 & -124.6583 & 4 & 0.2333 & 7.252411 & 12.57206 & -5.712865 & 6.46111\\\\\n",
       "\t237 & 2004 & 48.31333 & -124.66 & 3 & 11.5 & 5.044518 & 10.39646 & -5.712865 & 6.698514\\\\\n",
       "\t238 & 2004 & 48.3375 & -124.6875 & 2 & 22.4333 & 4.839913 & 10.32589 & -5.712865 & 6.697709\\\\\n",
       "\t239 & 2004 & 48.38917 & -124.65 & 1 & 61.8621 & 4.465045 & 9.895781 & -5.712865 & 6.752841\\\\\n",
       "\\end{tabular}\n"
      ],
      "text/plain": [
       "    year      lat       lon sitenum   cover filter_chla_mean filter_sst_mean\n",
       "230 2004 44.82667 -124.0567      10 80.6889         3.662119       11.826453\n",
       "231 2004 45.75500 -123.9650      51  3.7333         4.980644       14.210735\n",
       "232 2004 45.77000 -123.9700       9  0.1000         4.980644       14.210735\n",
       "233 2004 45.91333 -123.9767      50 19.6667         5.567718       14.660065\n",
       "234 2004 47.86000 -124.5700       6  0.0667         7.603948       12.273295\n",
       "235 2004 47.87000 -124.6000       5  0.2000         7.110147       12.557759\n",
       "236 2004 47.94000 -124.6583       4  0.2333         7.252411       12.572059\n",
       "237 2004 48.31333 -124.6600       3 11.5000         5.044518       10.396455\n",
       "238 2004 48.33750 -124.6875       2 22.4333         4.839913       10.325893\n",
       "239 2004 48.38917 -124.6500       1 61.8621         4.465045        9.895781\n",
       "    filter_upw_mean mytilus.rec\n",
       "230      -0.7602897    4.828388\n",
       "231      -2.7116500    5.475286\n",
       "232      -2.7116500    5.481912\n",
       "233      -2.7116500    5.569498\n",
       "234      -5.7128651    6.462187\n",
       "235      -5.7128651    6.450858\n",
       "236      -5.7128651    6.461110\n",
       "237      -5.7128651    6.698514\n",
       "238      -5.7128651    6.697709\n",
       "239      -5.7128651    6.752841"
      ]
     },
     "execution_count": 44,
     "metadata": {},
     "output_type": "execute_result"
    }
   ],
   "source": [
    "#setwd(\"/home/liyi/Dropbox/model\")\n",
    "X=read.csv(\"~/Dropbox/model/adults.recruits.merged.csv\")\n",
    "feature_name=c(\"year\",\"lat\",\"lon\",\"sitenum\",\"cover\",\"filter_chla_mean\",\"filter_sst_mean\",\"filter_upw_mean\",\"mytilus.rec\")\n",
    "X=X[feature_name]\n",
    "tail(X,10)\n",
    "#plot(X[,\"filter_upw_mean\"],X[,\"cover\"])\n",
    "#plot(X[,\"filter_upw_mean\"],X[,\"mytilus.rec\"])"
   ]
  },
  {
   "cell_type": "code",
   "execution_count": 48,
   "metadata": {
    "collapsed": false
   },
   "outputs": [
    {
     "data": {
      "text/html": [
       "<table>\n",
       "<thead><tr><th></th><th scope=col>year</th><th scope=col>lat</th><th scope=col>lon</th><th scope=col>sitenum</th><th scope=col>cover</th><th scope=col>filter_chla_mean</th><th scope=col>filter_sst_mean</th><th scope=col>filter_upw_mean</th><th scope=col>mytilus.rec</th><th scope=col>ycover</th></tr></thead>\n",
       "<tbody>\n",
       "\t<tr><th scope=row>1</th><td>1999</td><td>39.2725</td><td>-123.7975</td><td>24</td><td>32.7667</td><td>0.855416</td><td>11.1875</td><td>72.58783</td><td>0</td><td>44.6897</td></tr>\n",
       "\t<tr><th scope=row>2</th><td>1999</td><td>39.34</td><td>-123.82</td><td>23</td><td>39.6333</td><td>0.8837168</td><td>11.1068</td><td>72.58783</td><td>0</td><td>31.6333</td></tr>\n",
       "\t<tr><th scope=row>3</th><td>1999</td><td>39.415</td><td>-123.81</td><td>22</td><td>0.2667</td><td>0.9372152</td><td>11.07227</td><td>72.58783</td><td>0</td><td>0.2069</td></tr>\n",
       "\t<tr><th scope=row>4</th><td>1999</td><td>39.5975</td><td>-123.78</td><td>21</td><td>46.5667</td><td>1.078637</td><td>11.10985</td><td>121.2215</td><td>0</td><td>71.1</td></tr>\n",
       "\t<tr><th scope=row>5</th><td>1999</td><td>40.02</td><td>-124.0733</td><td>20</td><td>22.6</td><td>0.9299333</td><td>11.16466</td><td>121.2215</td><td>0</td><td>21.4333</td></tr>\n",
       "\t<tr><th scope=row>6</th><td>1999</td><td>41.06</td><td>-124.15</td><td>19</td><td>26.8667</td><td>2.11168</td><td>10.49518</td><td>79.06704</td><td>0</td><td>22.3</td></tr>\n",
       "</tbody>\n",
       "</table>\n"
      ],
      "text/latex": [
       "\\begin{tabular}{r|llllllllll}\n",
       "  & year & lat & lon & sitenum & cover & filter_chla_mean & filter_sst_mean & filter_upw_mean & mytilus.rec & ycover\\\\\n",
       "\\hline\n",
       "\t1 & 1999 & 39.2725 & -123.7975 & 24 & 32.7667 & 0.855416 & 11.1875 & 72.58783 & 0 & 44.6897\\\\\n",
       "\t2 & 1999 & 39.34 & -123.82 & 23 & 39.6333 & 0.8837168 & 11.1068 & 72.58783 & 0 & 31.6333\\\\\n",
       "\t3 & 1999 & 39.415 & -123.81 & 22 & 0.2667 & 0.9372152 & 11.07227 & 72.58783 & 0 & 0.2069\\\\\n",
       "\t4 & 1999 & 39.5975 & -123.78 & 21 & 46.5667 & 1.078637 & 11.10985 & 121.2215 & 0 & 71.1\\\\\n",
       "\t5 & 1999 & 40.02 & -124.0733 & 20 & 22.6 & 0.9299333 & 11.16466 & 121.2215 & 0 & 21.4333\\\\\n",
       "\t6 & 1999 & 41.06 & -124.15 & 19 & 26.8667 & 2.11168 & 10.49518 & 79.06704 & 0 & 22.3\\\\\n",
       "\\end{tabular}\n"
      ],
      "text/plain": [
       "  year     lat       lon sitenum   cover filter_chla_mean filter_sst_mean\n",
       "1 1999 39.2725 -123.7975      24 32.7667        0.8554160        11.18750\n",
       "2 1999 39.3400 -123.8200      23 39.6333        0.8837168        11.10680\n",
       "3 1999 39.4150 -123.8100      22  0.2667        0.9372152        11.07227\n",
       "4 1999 39.5975 -123.7800      21 46.5667        1.0786374        11.10985\n",
       "5 1999 40.0200 -124.0733      20 22.6000        0.9299333        11.16466\n",
       "6 1999 41.0600 -124.1500      19 26.8667        2.1116800        10.49518\n",
       "  filter_upw_mean mytilus.rec  ycover\n",
       "1        72.58783           0 44.6897\n",
       "2        72.58783           0 31.6333\n",
       "3        72.58783           0  0.2069\n",
       "4       121.22149           0 71.1000\n",
       "5       121.22149           0 21.4333\n",
       "6        79.06704           0 22.3000"
      ]
     },
     "execution_count": 48,
     "metadata": {},
     "output_type": "execute_result"
    },
    {
     "data": {
      "text/html": [
       "<ol class=list-inline>\n",
       "\t<li>190</li>\n",
       "\t<li>10</li>\n",
       "</ol>\n"
      ],
      "text/latex": [
       "\\begin{enumerate*}\n",
       "\\item 190\n",
       "\\item 10\n",
       "\\end{enumerate*}\n"
      ],
      "text/markdown": [
       "1. 190\n",
       "2. 10\n",
       "\n",
       "\n"
      ],
      "text/plain": [
       "[1] 190  10"
      ]
     },
     "execution_count": 48,
     "metadata": {},
     "output_type": "execute_result"
    }
   ],
   "source": [
    "nsample=dim(X)[1]\n",
    "X[\"ycover\"]=NA\n",
    "for(i in 1:nsample){\n",
    "    idx=(X[,\"sitenum\"]==X[i,\"sitenum\"])&(X[,\"year\"]==X[i,\"year\"]+1)\n",
    "    \n",
    "    if(sum(idx)){\n",
    "        X[i,\"ycover\"]=X[idx,\"cover\"]\n",
    "    }\n",
    "    \n",
    "   \n",
    "}\n",
    "X1=X[complete.cases(X),]\n",
    "head(X1)\n",
    "dim(X1)"
   ]
  },
  {
   "cell_type": "code",
   "execution_count": 68,
   "metadata": {
    "collapsed": false
   },
   "outputs": [
    {
     "data": {
      "text/html": [
       "<table>\n",
       "<thead><tr><th></th><th scope=col>1</th><th scope=col>2</th><th scope=col>3</th><th scope=col>4</th><th scope=col>5</th><th scope=col>6</th></tr></thead>\n",
       "<tbody>\n",
       "\t<tr><th scope=row>1</th><td>0.0000000</td><td>0.1083336</td><td>0.1283340</td><td>0.7283325</td><td>0.7383347</td><td>0.7483330</td></tr>\n",
       "\t<tr><th scope=row>2</th><td>-0.10833359</td><td> 0.00000000</td><td> 0.02000046</td><td> 0.61999893</td><td> 0.63000107</td><td> 0.63999939</td></tr>\n",
       "\t<tr><th scope=row>3</th><td>-0.12833405</td><td>-0.02000046</td><td> 0.00000000</td><td> 0.59999847</td><td> 0.61000061</td><td> 0.61999893</td></tr>\n",
       "\t<tr><th scope=row>4</th><td>-0.72833252</td><td>-0.61999893</td><td>-0.59999847</td><td> 0.00000000</td><td> 0.01000214</td><td> 0.02000046</td></tr>\n",
       "\t<tr><th scope=row>5</th><td>-0.738334656</td><td>-0.630001068</td><td>-0.610000610</td><td>-0.010002136</td><td> 0.000000000</td><td> 0.009998322</td></tr>\n",
       "\t<tr><th scope=row>6</th><td>-0.748332977</td><td>-0.639999390</td><td>-0.619998932</td><td>-0.020000458</td><td>-0.009998322</td><td> 0.000000000</td></tr>\n",
       "</tbody>\n",
       "</table>\n"
      ],
      "text/latex": [
       "\\begin{tabular}{r|llllll}\n",
       "  & 1 & 2 & 3 & 4 & 5 & 6\\\\\n",
       "\\hline\n",
       "\t1 & 0.0000000 & 0.1083336 & 0.1283340 & 0.7283325 & 0.7383347 & 0.7483330\\\\\n",
       "\t2 & -0.10833359 &  0.00000000 &  0.02000046 &  0.61999893 &  0.63000107 &  0.63999939\\\\\n",
       "\t3 & -0.12833405 & -0.02000046 &  0.00000000 &  0.59999847 &  0.61000061 &  0.61999893\\\\\n",
       "\t4 & -0.72833252 & -0.61999893 & -0.59999847 &  0.00000000 &  0.01000214 &  0.02000046\\\\\n",
       "\t5 & -0.738334656 & -0.630001068 & -0.610000610 & -0.010002136 &  0.000000000 &  0.009998322\\\\\n",
       "\t6 & -0.748332977 & -0.639999390 & -0.619998932 & -0.020000458 & -0.009998322 &  0.000000000\\\\\n",
       "\\end{tabular}\n"
      ],
      "text/markdown": [
       "1. 0\n",
       "2. -0.108333587646499\n",
       "3. -0.128334045410199\n",
       "4. -0.7283325195313\n",
       "5. -0.738334655761804\n",
       "6. -0.748332977295\n",
       "7. 0.108333587646499\n",
       "8. 0\n",
       "9. -0.0200004577637003\n",
       "10. -0.619998931884801\n",
       "11. -0.630001068115305\n",
       "12. -0.639999389648501\n",
       "13. 0.128334045410199\n",
       "14. 0.0200004577637003\n",
       "15. 0\n",
       "16. -0.599998474121101\n",
       "17. -0.610000610351605\n",
       "18. -0.619998931884801\n",
       "19. 0.7283325195313\n",
       "20. 0.619998931884801\n",
       "21. 0.599998474121101\n",
       "22. 0\n",
       "23. -0.0100021362305043\n",
       "24. -0.0200004577637003\n",
       "25. 0.738334655761804\n",
       "26. 0.630001068115305\n",
       "27. 0.610000610351605\n",
       "28. 0.0100021362305043\n",
       "29. 0\n",
       "30. -0.00999832153319602\n",
       "31. 0.748332977295\n",
       "32. 0.639999389648501\n",
       "33. 0.619998931884801\n",
       "34. 0.0200004577637003\n",
       "35. 0.00999832153319602\n",
       "36. 0\n",
       "\n",
       "\n"
      ],
      "text/plain": [
       "           1           2           3           4            5           6\n",
       "1  0.0000000  0.10833359  0.12833405  0.72833252  0.738334656 0.748332977\n",
       "2 -0.1083336  0.00000000  0.02000046  0.61999893  0.630001068 0.639999390\n",
       "3 -0.1283340 -0.02000046  0.00000000  0.59999847  0.610000610 0.619998932\n",
       "4 -0.7283325 -0.61999893 -0.59999847  0.00000000  0.010002136 0.020000458\n",
       "5 -0.7383347 -0.63000107 -0.61000061 -0.01000214  0.000000000 0.009998322\n",
       "6 -0.7483330 -0.63999939 -0.61999893 -0.02000046 -0.009998322 0.000000000"
      ]
     },
     "execution_count": 68,
     "metadata": {},
     "output_type": "execute_result"
    }
   ],
   "source": [
    "y=X1[\"ycover\"]\n",
    "y[y[,1]==0,]=min(y[y[,1]!=0,])/2 # replace 0 to the minimum positive number\n",
    "y=log(y) # take log of the species number\n",
    "#head(y)\n",
    "\n",
    "N=X1[\"cover\"]\n",
    "#head(N)\n",
    "\n",
    "D=dist(X[X[,\"year\"]==2001,\"lat\"],diag = T,upper = T)\n",
    "D=as.matrix(D)\n",
    "for(i in 1:48){\n",
    "    for(j in 1:48){\n",
    "        if(i>j){\n",
    "            D[i,j]=-D[i,j]\n",
    "        }\n",
    "    }\n",
    "}\n",
    "\n",
    "D=as.matrix(D)\n",
    "D[1:6,1:6]\n",
    "\n",
    "E=X1[,c(\"filter_chla_mean\",\"filter_sst_mean\",\"filter_upw_mean\")]"
   ]
  },
  {
   "cell_type": "code",
   "execution_count": 69,
   "metadata": {
    "collapsed": false
   },
   "outputs": [
    {
     "data": {
      "text/html": [
       "<ol class=list-inline>\n",
       "\t<li>'year'</li>\n",
       "\t<li>'lat'</li>\n",
       "\t<li>'lon'</li>\n",
       "\t<li>'sitenum'</li>\n",
       "\t<li>'cover'</li>\n",
       "\t<li>'filter_chla_mean'</li>\n",
       "\t<li>'filter_sst_mean'</li>\n",
       "\t<li>'filter_upw_mean'</li>\n",
       "\t<li>'mytilus.rec'</li>\n",
       "\t<li>'ycover'</li>\n",
       "</ol>\n"
      ],
      "text/latex": [
       "\\begin{enumerate*}\n",
       "\\item 'year'\n",
       "\\item 'lat'\n",
       "\\item 'lon'\n",
       "\\item 'sitenum'\n",
       "\\item 'cover'\n",
       "\\item 'filter_chla_mean'\n",
       "\\item 'filter_sst_mean'\n",
       "\\item 'filter_upw_mean'\n",
       "\\item 'mytilus.rec'\n",
       "\\item 'ycover'\n",
       "\\end{enumerate*}\n"
      ],
      "text/markdown": [
       "1. 'year'\n",
       "2. 'lat'\n",
       "3. 'lon'\n",
       "4. 'sitenum'\n",
       "5. 'cover'\n",
       "6. 'filter_chla_mean'\n",
       "7. 'filter_sst_mean'\n",
       "8. 'filter_upw_mean'\n",
       "9. 'mytilus.rec'\n",
       "10. 'ycover'\n",
       "\n",
       "\n"
      ],
      "text/plain": [
       " [1] \"year\"             \"lat\"              \"lon\"              \"sitenum\"         \n",
       " [5] \"cover\"            \"filter_chla_mean\" \"filter_sst_mean\"  \"filter_upw_mean\" \n",
       " [9] \"mytilus.rec\"      \"ycover\"          "
      ]
     },
     "execution_count": 69,
     "metadata": {},
     "output_type": "execute_result"
    }
   ],
   "source": [
    "names(X1)"
   ]
  },
  {
   "cell_type": "markdown",
   "metadata": {},
   "source": [
    "# This is for pisco dataset"
   ]
  },
  {
   "cell_type": "code",
   "execution_count": 4,
   "metadata": {
    "collapsed": false
   },
   "outputs": [
    {
     "data": {
      "text/html": [
       "<table>\n",
       "<thead><tr><th></th><th scope=col>latitude</th><th scope=col>longitude</th><th scope=col>chl</th><th scope=col>sst</th><th scope=col>upwelling</th><th scope=col>mussel_abund</th><th scope=col>year</th></tr></thead>\n",
       "<tbody>\n",
       "\t<tr><th scope=row>1</th><td>32.71167</td><td>-117.25</td><td>0.8897</td><td>16.51596</td><td>85.17711</td><td>1.0667</td><td>2000</td></tr>\n",
       "\t<tr><th scope=row>2</th><td>32.82</td><td>-117.2767</td><td>0.8095</td><td>16.76317</td><td>85.17711</td><td>46.7</td><td>2000</td></tr>\n",
       "\t<tr><th scope=row>3</th><td>32.84</td><td>-117.28</td><td>0.7844</td><td>16.78249</td><td>85.17711</td><td>10.6</td><td>2000</td></tr>\n",
       "\t<tr><th scope=row>4</th><td>33.44</td><td>-118.4767</td><td>0.5192727</td><td>16.48601</td><td>70.71932</td><td>2.8</td><td>2000</td></tr>\n",
       "\t<tr><th scope=row>5</th><td>33.45</td><td>-118.48</td><td>0.5192727</td><td>16.44148</td><td>70.71932</td><td>0.9333</td><td>2000</td></tr>\n",
       "\t<tr><th scope=row>6</th><td>33.46</td><td>-118.52</td><td>0.5017273</td><td>16.44452</td><td>56.26153</td><td>0.4</td><td>2000</td></tr>\n",
       "</tbody>\n",
       "</table>\n"
      ],
      "text/latex": [
       "\\begin{tabular}{r|lllllll}\n",
       "  & latitude & longitude & chl & sst & upwelling & mussel_abund & year\\\\\n",
       "\\hline\n",
       "\t1 & 32.71167 & -117.25 & 0.8897 & 16.51596 & 85.17711 & 1.0667 & 2000\\\\\n",
       "\t2 & 32.82 & -117.2767 & 0.8095 & 16.76317 & 85.17711 & 46.7 & 2000\\\\\n",
       "\t3 & 32.84 & -117.28 & 0.7844 & 16.78249 & 85.17711 & 10.6 & 2000\\\\\n",
       "\t4 & 33.44 & -118.4767 & 0.5192727 & 16.48601 & 70.71932 & 2.8 & 2000\\\\\n",
       "\t5 & 33.45 & -118.48 & 0.5192727 & 16.44148 & 70.71932 & 0.9333 & 2000\\\\\n",
       "\t6 & 33.46 & -118.52 & 0.5017273 & 16.44452 & 56.26153 & 0.4 & 2000\\\\\n",
       "\\end{tabular}\n"
      ],
      "text/plain": [
       "  latitude longitude       chl      sst upwelling mussel_abund year\n",
       "1 32.71167 -117.2500 0.8897000 16.51596  85.17711       1.0667 2000\n",
       "2 32.82000 -117.2767 0.8095000 16.76317  85.17711      46.7000 2000\n",
       "3 32.84000 -117.2800 0.7844000 16.78249  85.17711      10.6000 2000\n",
       "4 33.44000 -118.4767 0.5192727 16.48601  70.71932       2.8000 2000\n",
       "5 33.45000 -118.4800 0.5192727 16.44148  70.71932       0.9333 2000\n",
       "6 33.46000 -118.5200 0.5017273 16.44452  56.26153       0.4000 2000"
      ]
     },
     "execution_count": 4,
     "metadata": {},
     "output_type": "execute_result"
    },
    {
     "data": {
      "text/html": [
       "<table>\n",
       "<thead><tr><th></th><th scope=col>mussel_abund</th></tr></thead>\n",
       "<tbody>\n",
       "\t<tr><th scope=row>49</th><td>-0.3566749</td></tr>\n",
       "\t<tr><th scope=row>50</th><td>3.445747</td></tr>\n",
       "\t<tr><th scope=row>51</th><td>1.819164</td></tr>\n",
       "\t<tr><th scope=row>52</th><td>0.09839632</td></tr>\n",
       "\t<tr><th scope=row>53</th><td>-0.6286712</td></tr>\n",
       "\t<tr><th scope=row>54</th><td>-0.6931472</td></tr>\n",
       "</tbody>\n",
       "</table>\n"
      ],
      "text/latex": [
       "\\begin{tabular}{r|l}\n",
       "  & mussel_abund\\\\\n",
       "\\hline\n",
       "\t49 & -0.3566749\\\\\n",
       "\t50 & 3.445747\\\\\n",
       "\t51 & 1.819164\\\\\n",
       "\t52 & 0.09839632\\\\\n",
       "\t53 & -0.6286712\\\\\n",
       "\t54 & -0.6931472\\\\\n",
       "\\end{tabular}\n"
      ],
      "text/plain": [
       "   mussel_abund\n",
       "49  -0.35667494\n",
       "50   3.44574682\n",
       "51   1.81916385\n",
       "52   0.09839632\n",
       "53  -0.62867116\n",
       "54  -0.69314718"
      ]
     },
     "execution_count": 4,
     "metadata": {},
     "output_type": "execute_result"
    }
   ],
   "source": [
    "library(synchrony)\n",
    "data(pisco.data)\n",
    "y=subset(pisco.data,year>2000,select=c(mussel_abund)) # species number\n",
    "y[y[,1]==0,]=min(y[y[,1]!=0,])/2 # replace 0 to the minimum positive number\n",
    "y=log(y) # take log of the species number\n",
    "\n",
    "head(pisco.data)\n",
    "head(y)"
   ]
  },
  {
   "cell_type": "code",
   "execution_count": 2,
   "metadata": {
    "collapsed": false
   },
   "outputs": [
    {
     "data": {
      "text/html": [
       "<table>\n",
       "<thead><tr><th></th><th scope=col>1</th><th scope=col>2</th><th scope=col>3</th><th scope=col>4</th><th scope=col>5</th><th scope=col>6</th></tr></thead>\n",
       "<tbody>\n",
       "\t<tr><th scope=row>1</th><td>0.0000000</td><td>0.1083336</td><td>0.1283340</td><td>0.7283325</td><td>0.7383347</td><td>0.7483330</td></tr>\n",
       "\t<tr><th scope=row>2</th><td>-0.10833359</td><td> 0.00000000</td><td> 0.02000046</td><td> 0.61999893</td><td> 0.63000107</td><td> 0.63999939</td></tr>\n",
       "\t<tr><th scope=row>3</th><td>-0.12833405</td><td>-0.02000046</td><td> 0.00000000</td><td> 0.59999847</td><td> 0.61000061</td><td> 0.61999893</td></tr>\n",
       "\t<tr><th scope=row>4</th><td>-0.72833252</td><td>-0.61999893</td><td>-0.59999847</td><td> 0.00000000</td><td> 0.01000214</td><td> 0.02000046</td></tr>\n",
       "\t<tr><th scope=row>5</th><td>-0.738334656</td><td>-0.630001068</td><td>-0.610000610</td><td>-0.010002136</td><td> 0.000000000</td><td> 0.009998322</td></tr>\n",
       "\t<tr><th scope=row>6</th><td>-0.748332977</td><td>-0.639999390</td><td>-0.619998932</td><td>-0.020000458</td><td>-0.009998322</td><td> 0.000000000</td></tr>\n",
       "</tbody>\n",
       "</table>\n"
      ],
      "text/latex": [
       "\\begin{tabular}{r|llllll}\n",
       "  & 1 & 2 & 3 & 4 & 5 & 6\\\\\n",
       "\\hline\n",
       "\t1 & 0.0000000 & 0.1083336 & 0.1283340 & 0.7283325 & 0.7383347 & 0.7483330\\\\\n",
       "\t2 & -0.10833359 &  0.00000000 &  0.02000046 &  0.61999893 &  0.63000107 &  0.63999939\\\\\n",
       "\t3 & -0.12833405 & -0.02000046 &  0.00000000 &  0.59999847 &  0.61000061 &  0.61999893\\\\\n",
       "\t4 & -0.72833252 & -0.61999893 & -0.59999847 &  0.00000000 &  0.01000214 &  0.02000046\\\\\n",
       "\t5 & -0.738334656 & -0.630001068 & -0.610000610 & -0.010002136 &  0.000000000 &  0.009998322\\\\\n",
       "\t6 & -0.748332977 & -0.639999390 & -0.619998932 & -0.020000458 & -0.009998322 &  0.000000000\\\\\n",
       "\\end{tabular}\n"
      ],
      "text/markdown": [
       "1. 0\n",
       "2. -0.108333587646499\n",
       "3. -0.128334045410199\n",
       "4. -0.7283325195313\n",
       "5. -0.738334655761804\n",
       "6. -0.748332977295\n",
       "7. 0.108333587646499\n",
       "8. 0\n",
       "9. -0.0200004577637003\n",
       "10. -0.619998931884801\n",
       "11. -0.630001068115305\n",
       "12. -0.639999389648501\n",
       "13. 0.128334045410199\n",
       "14. 0.0200004577637003\n",
       "15. 0\n",
       "16. -0.599998474121101\n",
       "17. -0.610000610351605\n",
       "18. -0.619998931884801\n",
       "19. 0.7283325195313\n",
       "20. 0.619998931884801\n",
       "21. 0.599998474121101\n",
       "22. 0\n",
       "23. -0.0100021362305043\n",
       "24. -0.0200004577637003\n",
       "25. 0.738334655761804\n",
       "26. 0.630001068115305\n",
       "27. 0.610000610351605\n",
       "28. 0.0100021362305043\n",
       "29. 0\n",
       "30. -0.00999832153319602\n",
       "31. 0.748332977295\n",
       "32. 0.639999389648501\n",
       "33. 0.619998931884801\n",
       "34. 0.0200004577637003\n",
       "35. 0.00999832153319602\n",
       "36. 0\n",
       "\n",
       "\n"
      ],
      "text/plain": [
       "           1           2           3           4            5           6\n",
       "1  0.0000000  0.10833359  0.12833405  0.72833252  0.738334656 0.748332977\n",
       "2 -0.1083336  0.00000000  0.02000046  0.61999893  0.630001068 0.639999390\n",
       "3 -0.1283340 -0.02000046  0.00000000  0.59999847  0.610000610 0.619998932\n",
       "4 -0.7283325 -0.61999893 -0.59999847  0.00000000  0.010002136 0.020000458\n",
       "5 -0.7383347 -0.63000107 -0.61000061 -0.01000214  0.000000000 0.009998322\n",
       "6 -0.7483330 -0.63999939 -0.61999893 -0.02000046 -0.009998322 0.000000000"
      ]
     },
     "execution_count": 2,
     "metadata": {},
     "output_type": "execute_result"
    }
   ],
   "source": [
    "N=subset(pisco.data,year<2003,select=c(mussel_abund)) # (past) species number\n",
    "#D=coord2dist(pisco.data[1:48,1:2],lower.tri = F) # site distance\n",
    "#D=coord2dist(cbind(pisco.data[1:48,1],rep(pisco.data[1,2],48)),lower.tri = F) # site distance\n",
    "D=dist(pisco.data[1:48,1],diag = T,upper = T)\n",
    "D=as.matrix(D)\n",
    "for(i in 1:48){\n",
    "    for(j in 1:48){\n",
    "        if(i>j){\n",
    "            D[i,j]=-D[i,j]\n",
    "        }\n",
    "    }\n",
    "}\n",
    "E=subset(pisco.data,year<2003,select=c(chl,sst,upwelling)) # Environment variable\n",
    "D=as.matrix(D)\n",
    "D[1:6,1:6]"
   ]
  },
  {
   "cell_type": "markdown",
   "metadata": {},
   "source": [
    "$$\n",
    "\\begin{equation}\n",
    "y=K+\\log(\\sum_{i=1}^{n_s}N_{ti}e^{-\\frac{(d_{si}-\\mu_d)^2}{\\sigma_d^2}})+\\beta_1e_{chi}+\\beta_2e_{sst}+\n",
    "\\beta_3e_{upw}+\\epsilon,\n",
    "\\end{equation}\n",
    "$$"
   ]
  },
  {
   "cell_type": "markdown",
   "metadata": {},
   "source": [
    "$$\n",
    "\\begin{equation}\n",
    "A_{x,t+1}=[\\sum_{i=1}^{n_s}A_{i,t}e^{-\\frac{(d_{si}-\\mu_d)^2}{\\sigma_d^2}}]e^{\\beta_0+\\beta_1e_{upw}+\n",
    "\\beta_2e_{upw}^2}+\\epsilon,\n",
    "\\end{equation}\n",
    "$$"
   ]
  },
  {
   "cell_type": "code",
   "execution_count": 3,
   "metadata": {
    "collapsed": false
   },
   "outputs": [
    {
     "name": "stdout",
     "output_type": "stream",
     "text": [
      "iteration = 0\n",
      "Parameter:\n",
      "[1] 1e+02 2e+00 1e-01 1e-01 1e-02\n",
      "Function Value\n",
      "[1] 161359.6\n",
      "Gradient:\n",
      "[1] 0 0 0 0 0\n",
      "\n",
      "Relative gradient close to zero.\n",
      "Current iterate is probably solution.\n",
      "\n"
     ]
    }
   ],
   "source": [
    "# log-likelihood function\n",
    "logl1=function(t,y,N,D,E){\n",
    "  n=dim(y)[1]\n",
    "  f=rep(0,n) # value of the regression function\n",
    "  yr=rep(0:2,each=48) # 3 years(0-2) used: 00-03 for X, 01-04 for y\n",
    "  for(j in 1:n){\n",
    "    # dispersal kernal (for the 48 sites)\n",
    "    Ker=exp(-(D[j%%48+((j%%48)==0)*48,]-t[1])^2/(t[2]^2)) \n",
    "    # number of species for 48 sites\n",
    "    Nj=N[(yr[j]*48+1):((yr[j]+1)*48),] \n",
    "    # dispersal + three environment terms\n",
    "    f[j]=sum(Ker*Nj)*exp(t[3]+t[4]*E[j,3]+t[5]*E[j,3]^2) \n",
    "  }\n",
    "  \n",
    "  return(sum((y[,1]-f)^2)) # return the objective function\n",
    "}\n",
    "\n",
    "\n",
    "# do the optimization to find the parameters\n",
    "t0=c(100,2,0.1,0.1,0.01)\n",
    "res1=nlm(logl1,t0,hessian=T,print.level=1,y=y,N=N,D=D,E=E,iterlim=1e4,steptol=1e-5)"
   ]
  },
  {
   "cell_type": "code",
   "execution_count": null,
   "metadata": {
    "collapsed": true
   },
   "outputs": [],
   "source": []
  }
 ],
 "metadata": {
  "kernelspec": {
   "display_name": "R",
   "language": "R",
   "name": "ir"
  },
  "language_info": {
   "codemirror_mode": "r",
   "file_extension": ".r",
   "mimetype": "text/x-r-source",
   "name": "R",
   "pygments_lexer": "r",
   "version": "3.2.0"
  }
 },
 "nbformat": 4,
 "nbformat_minor": 0
}
